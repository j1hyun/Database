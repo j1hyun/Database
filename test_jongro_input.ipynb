{
 "cells": [
  {
   "cell_type": "markdown",
   "metadata": {},
   "source": [
    "# 종로구 관공서 10개의 위도, 경도 데이터\n"
   ]
  },
  {
   "cell_type": "code",
   "execution_count": 1,
   "metadata": {},
   "outputs": [
    {
     "name": "stdout",
     "output_type": "stream",
     "text": [
      "[('서울지방경찰청', '37.5748406', '126.9697778'), ('광화문우체국', '37.5698043', '126.9758795'), ('서울특별시교육청', '37.5701647', '126.9322295'), ('종로세무서', '37.5738483', '126.9866872'), ('외교부', '37.5738692', '126.9801211'), ('감사원', '37.5869533', '126.9827796'), ('기상청+서울관측소', '37.5714315', '126.9640562'), ('통일부', '37.574899', '126.9731697'), ('청와대', '37.5866118', '126.9726223'), ('법제처', '37.5748713', '126.9728642')]\n"
     ]
    }
   ],
   "source": [
    "jonro_url=['https://www.google.com/maps/place/서울지방경찰청/@37.5748406,126.9697778,17z/data=!3m1!4b1!4m5!3m4!1s0x357ca29445ccaeab:0xabf3c747ed97aaa4!8m2!3d37.5748364!4d126.9719665',\n",
    "          'https://www.google.com/maps/place/광화문우체국/@37.5698043,126.9758795,17z/data=!3m1!4b1!4m5!3m4!1s0x357ca2ec8b2879f9:0xc2cade56c29776ad!8m2!3d37.5698001!4d126.9780682',\n",
    "          'https://www.google.com/maps/place/서울특별시교육청/@37.5701647,126.9322295,13z/data=!4m8!1m2!2m1!1z7ISc7Jq47Yq567OE7Iuc6rWQ7Jyh7LKt!3m4!1s0x357ca2902a74357b:0x1dc9f417258953af!8m2!3d37.5701647!4d126.9672484',\n",
    "          'https://www.google.com/maps/place/종로세무서/@37.5738483,126.9866872,17z/data=!3m1!4b1!4m5!3m4!1s0x15326b958068d659:0x58fd3eded4077e61!8m2!3d37.5738441!4d126.9888759',\n",
    "          'https://www.google.com/maps/search/외교부/@37.5738692,126.9801211,15z/data=!3m1!4b1',\n",
    "          'https://www.google.com/maps/place/감사원/@37.5869533,126.9827796,17z/data=!3m1!4b1!4m5!3m4!1s0x357ca2cddf89d6ed:0xe16e9943532bfa3b!8m2!3d37.5869491!4d126.9849683',\n",
    "          'https://www.google.com/maps/place/기상청+서울관측소/@37.5714315,126.9640562,17z/data=!3m1!4b1!4m5!3m4!1s0x357ca2902312ea47:0x1d206df14c9d149b!8m2!3d37.5714273!4d126.9662449',\n",
    "          'https://www.google.com/maps/place/통일부/@37.574899,126.9731697,17z/data=!4m5!3m4!1s0x357ca294c8cbdc7b:0x7356d85618950fbd!8m2!3d37.5748948!4d126.9753584',\n",
    "          'https://www.google.com/maps/place/청와대/@37.5866118,126.9726223,17z/data=!3m1!4b1!4m5!3m4!1s0x357ca2b7ef94a16b:0xb16d5f135eaaddc!8m2!3d37.5866076!4d126.974811',\n",
    "          'https://www.google.com/maps/place/법제처/@37.5748713,126.9728642,17z/data=!3m1!4b1!4m5!3m4!1s0x357ca2952fa8074b:0xc8437ce441c88e62!8m2!3d37.5748671!4d126.9750529']\n",
    "\n",
    "jongro_list=[]\n",
    "for i in (jonro_url):\n",
    "    title=i.split('/')[5]\n",
    "    lat=i.split('@')[1].split(',')[0]\n",
    "    long=i.split('@')[1].split(',')[1]\n",
    "    jongro_list.append((title, lat, long))\n",
    "\n",
    "print(jongro_list)"
   ]
  },
  {
   "cell_type": "markdown",
   "metadata": {},
   "source": [
    "#### googlemap의 url을 이용해 관공서명, 위도, 경도에 관한 데이터를 가져와 list에 삽입"
   ]
  },
  {
   "cell_type": "code",
   "execution_count": 2,
   "metadata": {
    "scrolled": true
   },
   "outputs": [
    {
     "data": {
      "text/plain": [
       "0"
      ]
     },
     "execution_count": 2,
     "metadata": {},
     "output_type": "execute_result"
    }
   ],
   "source": [
    "import pymysql\n",
    "\n",
    "testDB=pymysql.connect(host='localhost', user='test', password='1234', db='testdb', charset='utf8')\n",
    "cursor=testDB.cursor()\n",
    "\n",
    "cursor.execute(\"CREATE TABLE jongro (title VARCHAR(32), latitude VARCHAR(32), longtitude VARCHAR(32))\")"
   ]
  },
  {
   "cell_type": "markdown",
   "metadata": {},
   "source": [
    "pymysql을 통해 testdb와 연결  \n",
    "testdb 안에 앞서 만든 리스트 데이터들을 저장할 jongro table 생성"
   ]
  },
  {
   "cell_type": "code",
   "execution_count": 3,
   "metadata": {},
   "outputs": [
    {
     "name": "stdout",
     "output_type": "stream",
     "text": [
      "10\n"
     ]
    }
   ],
   "source": [
    "sql = \"INSERT INTO jongro(title, latitude, longtitude) VALUES (%s, %s, %s)\"\n",
    "\n",
    "cursor.executemany(sql, jongro_list)\n",
    "\n",
    "testDB.commit()\n",
    "\n",
    "print(cursor.rowcount)"
   ]
  },
  {
   "cell_type": "markdown",
   "metadata": {},
   "source": [
    "table 생성 후 INSERT INTO를 통해 데이터 삽입  \n",
    "rowcount를 출력해 보면 10개의 데이터가 저장됨을 확인할 수 있음"
   ]
  },
  {
   "cell_type": "markdown",
   "metadata": {},
   "source": [
    "## 실행 결과"
   ]
  },
  {
   "cell_type": "markdown",
   "metadata": {},
   "source": [
    "![result](https://user-images.githubusercontent.com/70892523/94137564-8bfc9f00-fea1-11ea-8fd8-a63747bfb2c9.PNG)"
   ]
  }
 ],
 {
   "cell_type": "markdown",
   "metadata": {},
   "source": [
    "## 원격 접속 결과"
   ]
  },
  {
   "cell_type": "markdown",
   "metadata": {},
   "source": [
    "![result2](https://user-images.githubusercontent.com/70892523/94225774-e8f36600-ff30-11ea-9dd2-4541a1a79eb8.PNG)"
   ]
  }
 ],
 "metadata": {
  "kernelspec": {
   "display_name": "Python 3",
   "language": "python",
   "name": "python3"
  },
  "language_info": {
   "codemirror_mode": {
    "name": "ipython",
    "version": 3
   },
   "file_extension": ".py",
   "mimetype": "text/x-python",
   "name": "python",
   "nbconvert_exporter": "python",
   "pygments_lexer": "ipython3",
   "version": "3.8.3"
  }
 },
 "nbformat": 4,
 "nbformat_minor": 4
}

## 원격 접속
