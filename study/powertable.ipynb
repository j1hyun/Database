{
 "cells": [
  {
   "cell_type": "markdown",
   "metadata": {},
   "source": [
    "# 전력 사용량 데이터"
   ]
  },
  {
   "cell_type": "code",
   "execution_count": 77,
   "metadata": {
    "scrolled": true
   },
   "outputs": [
    {
     "name": "stdout",
     "output_type": "stream",
     "text": [
      "0     238.32\n",
      "1     236.16\n",
      "2     237.24\n",
      "3     236.16\n",
      "4     234.72\n",
      "       ...  \n",
      "91    271.08\n",
      "92    267.84\n",
      "93    266.04\n",
      "94    270.36\n",
      "95    264.60\n",
      "Name: 사용량 (kWh), Length: 96, dtype: float64\n"
     ]
    }
   ],
   "source": [
    "import pandas as pd\n",
    "df= pd.read_csv(\"1월1일.csv\")\n",
    "print(df['사용량 (kWh)'])"
   ]
  },
  {
   "cell_type": "code",
   "execution_count": 83,
   "metadata": {
    "scrolled": true
   },
   "outputs": [],
   "source": [
    "data_list=[]\n",
    "for i in range(len(df)):\n",
    "    id_name='a'\n",
    "    time=str(df['시'][i])\n",
    "    power=str(df['사용량 (kWh)'][i])\n",
    "    name='서울지방경찰청'\n",
    "    data_list.append((id_name, time, power,name))"
   ]
  },
  {
   "cell_type": "code",
   "execution_count": 66,
   "metadata": {},
   "outputs": [
    {
     "data": {
      "text/plain": [
       "0"
      ]
     },
     "execution_count": 66,
     "metadata": {},
     "output_type": "execute_result"
    }
   ],
   "source": [
    "import pymysql\n",
    "testDB=pymysql.connect(host='localhost', user='root', password='1234', db='testDB', charset='utf8')\n",
    "cursor=testDB.cursor()\n",
    "\n",
    "cursor.execute(\"CREATE TABLE power_table (id VARCHAR(3), time VARCHAR(8), power VARCHAR(32), name VARCHAR(32))\")"
   ]
  },
  {
   "cell_type": "code",
   "execution_count": 72,
   "metadata": {},
   "outputs": [
    {
     "name": "stdout",
     "output_type": "stream",
     "text": [
      "96\n"
     ]
    }
   ],
   "source": [
    "sql = \"INSERT INTO power_table(id, time, power, name) VALUES (%s, %s, %s, %s)\"\n",
    "\n",
    "cursor.executemany(sql, data_list)\n",
    "\n",
    "testDB.commit()\n",
    "\n",
    "print(cursor.rowcount)"
   ]
  },
  {
   "cell_type": "code",
   "execution_count": 80,
   "metadata": {},
   "outputs": [
    {
     "data": {
      "text/html": [
       "<div>\n",
       "<style scoped>\n",
       "    .dataframe tbody tr th:only-of-type {\n",
       "        vertical-align: middle;\n",
       "    }\n",
       "\n",
       "    .dataframe tbody tr th {\n",
       "        vertical-align: top;\n",
       "    }\n",
       "\n",
       "    .dataframe thead th {\n",
       "        text-align: right;\n",
       "    }\n",
       "</style>\n",
       "<table border=\"1\" class=\"dataframe\">\n",
       "  <thead>\n",
       "    <tr style=\"text-align: right;\">\n",
       "      <th></th>\n",
       "      <th>시</th>\n",
       "      <th>사용량 (kWh)</th>\n",
       "    </tr>\n",
       "  </thead>\n",
       "  <tbody>\n",
       "    <tr>\n",
       "      <th>0</th>\n",
       "      <td>00:15</td>\n",
       "      <td>270.00</td>\n",
       "    </tr>\n",
       "    <tr>\n",
       "      <th>1</th>\n",
       "      <td>00:30</td>\n",
       "      <td>263.52</td>\n",
       "    </tr>\n",
       "    <tr>\n",
       "      <th>2</th>\n",
       "      <td>00:45</td>\n",
       "      <td>266.40</td>\n",
       "    </tr>\n",
       "    <tr>\n",
       "      <th>3</th>\n",
       "      <td>01:00</td>\n",
       "      <td>255.60</td>\n",
       "    </tr>\n",
       "    <tr>\n",
       "      <th>4</th>\n",
       "      <td>01:15</td>\n",
       "      <td>253.80</td>\n",
       "    </tr>\n",
       "    <tr>\n",
       "      <th>...</th>\n",
       "      <td>...</td>\n",
       "      <td>...</td>\n",
       "    </tr>\n",
       "    <tr>\n",
       "      <th>91</th>\n",
       "      <td>23:00</td>\n",
       "      <td>272.16</td>\n",
       "    </tr>\n",
       "    <tr>\n",
       "      <th>92</th>\n",
       "      <td>23:15</td>\n",
       "      <td>269.28</td>\n",
       "    </tr>\n",
       "    <tr>\n",
       "      <th>93</th>\n",
       "      <td>23:30</td>\n",
       "      <td>274.32</td>\n",
       "    </tr>\n",
       "    <tr>\n",
       "      <th>94</th>\n",
       "      <td>23:45</td>\n",
       "      <td>271.44</td>\n",
       "    </tr>\n",
       "    <tr>\n",
       "      <th>95</th>\n",
       "      <td>24:00</td>\n",
       "      <td>267.12</td>\n",
       "    </tr>\n",
       "  </tbody>\n",
       "</table>\n",
       "<p>96 rows × 2 columns</p>\n",
       "</div>"
      ],
      "text/plain": [
       "        시  사용량 (kWh)\n",
       "0   00:15     270.00\n",
       "1   00:30     263.52\n",
       "2   00:45     266.40\n",
       "3   01:00     255.60\n",
       "4   01:15     253.80\n",
       "..    ...        ...\n",
       "91  23:00     272.16\n",
       "92  23:15     269.28\n",
       "93  23:30     274.32\n",
       "94  23:45     271.44\n",
       "95  24:00     267.12\n",
       "\n",
       "[96 rows x 2 columns]"
      ]
     },
     "execution_count": 80,
     "metadata": {},
     "output_type": "execute_result"
    }
   ],
   "source": [
    "df2=pd.read_csv('1월2일.csv')\n",
    "df2"
   ]
  },
  {
   "cell_type": "code",
   "execution_count": 84,
   "metadata": {},
   "outputs": [],
   "source": [
    "data_list2=[]\n",
    "for i in range(len(df2)):\n",
    "    id_name='b'\n",
    "    time=str(df2['시'][i])\n",
    "    power=str(df2['사용량 (kWh)'][i])\n",
    "    name='광화문우체국'\n",
    "    data_list2.append((id_name, time, power,name))"
   ]
  },
  {
   "cell_type": "code",
   "execution_count": 82,
   "metadata": {},
   "outputs": [
    {
     "name": "stdout",
     "output_type": "stream",
     "text": [
      "96\n"
     ]
    }
   ],
   "source": [
    "sql = \"INSERT INTO power_table(id, time, power, name) VALUES (%s, %s, %s, %s)\"\n",
    "\n",
    "cursor.executemany(sql, data_list2)\n",
    "\n",
    "testDB.commit()\n",
    "\n",
    "print(cursor.rowcount)"
   ]
  },
  {
   "cell_type": "code",
   "execution_count": null,
   "metadata": {},
   "outputs": [],
   "source": []
  }
 ],
 "metadata": {
  "kernelspec": {
   "display_name": "Python 3",
   "language": "python",
   "name": "python3"
  },
  "language_info": {
   "codemirror_mode": {
    "name": "ipython",
    "version": 3
   },
   "file_extension": ".py",
   "mimetype": "text/x-python",
   "name": "python",
   "nbconvert_exporter": "python",
   "pygments_lexer": "ipython3",
   "version": "3.8.3"
  }
 },
 "nbformat": 4,
 "nbformat_minor": 4
}
